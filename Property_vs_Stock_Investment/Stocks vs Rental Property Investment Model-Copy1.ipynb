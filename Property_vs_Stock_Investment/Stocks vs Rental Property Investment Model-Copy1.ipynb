{
 "cells": [
  {
   "cell_type": "markdown",
   "metadata": {},
   "source": [
    "# Stocks vs Rental Property Investment Model"
   ]
  },
  {
   "cell_type": "markdown",
   "metadata": {},
   "source": [
    "## Introduction \n",
    "\n",
    "__I hear a lot of times about folks investing in a rental property. So as an exercise in curiousity, I decided to simulate the money that can be made by investing in the stock market, versus investing in a rental property.__"
   ]
  },
  {
   "cell_type": "markdown",
   "metadata": {},
   "source": [
    "## Investing in the stock market\n",
    "\n",
    "__First we look at investing in the stock market.__ \n",
    "\n"
   ]
  },
  {
   "cell_type": "markdown",
   "metadata": {},
   "source": [
    "### Assumptions\n",
    "\n",
    "For this analysis, we make the following assumption\n",
    "1. We will look at different average growth rates. Historically, the S&P500 has <a href=\"https://www.investopedia.com/ask/answers/042415/what-average-annual-return-sp-500.asp\" target=\"_blank\">yielded 9.8% returns</a>. \n",
    "2. We will use a divident rate of 3% \n",
    "3. The pricipal is compounded yearly"
   ]
  },
  {
   "cell_type": "code",
   "execution_count": 1,
   "metadata": {},
   "outputs": [],
   "source": [
    "#Import the required libraries\n",
    "\n",
    "import numpy as np\n",
    "import matplotlib.pyplot as pp\n",
    "import pprint\n",
    "%matplotlib inline"
   ]
  },
  {
   "cell_type": "markdown",
   "metadata": {},
   "source": [
    "### Define variables\n",
    "\n",
    "Once the necessary libraries are imported, next, we will define the variables\n",
    "1. Principal is the initial investment \n",
    "2. Growth rate is a array of average growth rates, here we will look at growth rates between 2-12% \n",
    "3. Dividend rate is the yearly dividends you get from your investments"
   ]
  },
  {
   "cell_type": "code",
   "execution_count": 2,
   "metadata": {},
   "outputs": [],
   "source": [
    "principal = 100000 \n",
    "\n",
    "growth_rate = np.linspace(1.02,1.12,20) #this is how much the stocks/principal will grow over time\n",
    "time = np.linspace(0,29,30)\n",
    "dividend_rate = 0.03 #dividends that you get \n"
   ]
  },
  {
   "cell_type": "markdown",
   "metadata": {},
   "source": [
    "### Calculate the growth and interest"
   ]
  },
  {
   "cell_type": "code",
   "execution_count": 8,
   "metadata": {},
   "outputs": [],
   "source": [
    "#Define an array where the principal for every year will be stored\n",
    "yearly_principal = np.empty((0,len(time)))\n",
    "\n",
    "#Calculate the increase in the value of investment for different values of growth rate\n",
    "\n",
    "for i in growth_rate: #This loop will calculate the value for each growth rate\n",
    "    pr = []\n",
    "    for t  in time: \n",
    "        revenue = principal * pow(i,t)\n",
    "        pr.append(revenue)  \n",
    "        \n",
    "    yearly_principal = np.append(yearly_principal,[pr],axis =0)\n",
    "\n",
    "#Calculate the interest paid due to dividends \n",
    "interest = yearly_principal * dividend_rate\n"
   ]
  },
  {
   "cell_type": "markdown",
   "metadata": {},
   "source": [
    "### Calculate the combined value\n",
    "\n",
    "__The combined value is calculated for a time period of 30 years. This is done because the normal mortgage period is 30 years, and later on we will do a comparative analysis with owning a rental property__"
   ]
  },
  {
   "cell_type": "code",
   "execution_count": 4,
   "metadata": {},
   "outputs": [],
   "source": [
    "#Final value\n",
    "final = []\n",
    "\n",
    "#Calculate the total final value of the investment \n",
    "for n in range(0,len(growth_rate)):\n",
    "    current_tot_val = sum(interest[n,0:(len(time)-1)])+yearly_principal[n,(len(time)-1)]\n",
    "    final.append(current_tot_val)\n",
    "\n",
    "    \n",
    "final = np.asarray(final) #convert to array for mathematical manipulations \n",
    "\n"
   ]
  },
  {
   "cell_type": "markdown",
   "metadata": {},
   "source": [
    "### Plot the data"
   ]
  },
  {
   "cell_type": "code",
   "execution_count": 21,
   "metadata": {
    "scrolled": false
   },
   "outputs": [
    {
     "data": {
      "image/png": "[encoded data removed]",
      "text/plain": [
       "<Figure size 576x360 with 1 Axes>"
      ]
     },
     "metadata": {
      "needs_background": "light"
     },
     "output_type": "display_data"
    }
   ],
   "source": [
    "#manipulation for plotting\n",
    "\n",
    "final_in_millions = final/1000000\n",
    "percent_growth = (growth_rate - 1)*100\n",
    "\n",
    "#plotting the data\n",
    "pp.figure(figsize=(8,5))\n",
    "pp.rcParams.update({'font.size': 15})\n",
    "pp.plot(percent_growth,final_in_millions,'ob');\n",
    "pp.xlabel(\"Percent growth rate\");\n",
    "pp.ylabel('Final total value (M)');"
   ]
  },
  {
   "cell_type": "markdown",
   "metadata": {},
   "source": [
    "## Investing in a rental property"
   ]
  },
  {
   "cell_type": "markdown",
   "metadata": {},
   "source": [
    "### Assumptions\n",
    "\n",
    "1. We invest in a rental property of USD 500,000\n",
    "2. Pay 20% down payment (USD 100,000)\n",
    "3. monthly mortgage rate at 4% interest, 30 year term\n",
    "4. Inflation rate of 3%\n",
    "5. The analysis __does not__ take into account tax breaks due to mortgage payments, or income tax implications due to rental earnings "
   ]
  },
  {
   "cell_type": "code",
   "execution_count": 10,
   "metadata": {},
   "outputs": [],
   "source": [
    "#Declare Constants\n",
    "down_payment = 100000\n",
    "home_cost = 500000\n",
    "mortgage = 1910 #monthly mortgage rate at 4% interest, 30 year term\n",
    "taxes = 338\n",
    "insurance = 233 #initial cost of insurance\n",
    "rent_m = 2000 #initial rent\n",
    "rate = 1.04 #approximate increase rate for property, insurance rate and rent. #this is assumed as inflation + 1%\n"
   ]
  },
  {
   "cell_type": "code",
   "execution_count": 11,
   "metadata": {},
   "outputs": [],
   "source": [
    "#declare vectors/lists to store time dependent costs\n",
    "annual_rev = []\n",
    "annual_cost =[]\n",
    "home_val = []\n",
    "time = []"
   ]
  },
  {
   "cell_type": "markdown",
   "metadata": {},
   "source": [
    "### Calculate time dependent revenues and costs"
   ]
  },
  {
   "cell_type": "code",
   "execution_count": 12,
   "metadata": {},
   "outputs": [],
   "source": [
    "for t  in range(0,30):\n",
    "    revenue_2 = rent_m * pow(rate,t)*12\n",
    "    annual_rev.append(revenue_2)\n",
    "    \n",
    "    cost = ((mortgage + taxes + insurance*pow(rate,t))*12) + (revenue_2*0.2) \n",
    "    #The multiplication factor of 1.2 is 20% variable expenses such as repairs, empty property etc. \n",
    "    annual_cost.append(cost)\n",
    "    \n",
    "        \n",
    "    curr_home_val = home_cost* pow(rate,t)\n",
    "    home_val.append(curr_home_val)\n",
    "    \n",
    "    time.append(t)"
   ]
  },
  {
   "cell_type": "markdown",
   "metadata": {},
   "source": [
    "### Calculate the final total value from investing in a rental property "
   ]
  },
  {
   "cell_type": "code",
   "execution_count": 13,
   "metadata": {
    "scrolled": true
   },
   "outputs": [
    {
     "name": "stdout",
     "output_type": "stream",
     "text": [
      "Total value after 30 years is  1670063\n"
     ]
    }
   ],
   "source": [
    "total_after_30_years = home_val[(len(time)-1)]+sum(annual_rev)-sum(annual_cost) #calculate total value after loan paid off\n",
    "\n",
    "print (\"Total value after 30 years is \", int(total_after_30_years))"
   ]
  },
  {
   "cell_type": "markdown",
   "metadata": {},
   "source": [
    "### Plot earnings and costs "
   ]
  },
  {
   "cell_type": "code",
   "execution_count": 22,
   "metadata": {
    "scrolled": true
   },
   "outputs": [
    {
     "data": {
      "image/png": "[encoded data removed]",
      "text/plain": [
       "<Figure size 576x360 with 1 Axes>"
      ]
     },
     "metadata": {
      "needs_background": "light"
     },
     "output_type": "display_data"
    }
   ],
   "source": [
    "pp.figure(figsize=(8,5))\n",
    "pp.rcParams.update({'font.size': 15})\n",
    "pp.plot(time,annual_cost,'or',time,annual_rev,'xb');\n",
    "pp.xlabel(\"Time (years)\");\n",
    "pp.ylabel('Cost/Revenue per year ($)');\n",
    "pp.legend(('annual cost','annual rev'));"
   ]
  },
  {
   "cell_type": "code",
   "execution_count": 31,
   "metadata": {
    "scrolled": true
   },
   "outputs": [
    {
     "data": {
      "image/png": "[encoded data removed]",
      "text/plain": [
       "<Figure size 576x360 with 1 Axes>"
      ]
     },
     "metadata": {
      "needs_background": "light"
     },
     "output_type": "display_data"
    }
   ],
   "source": [
    "house_total_mil = total_after_30_years/1e6\n",
    "\n",
    "#plotting the data\n",
    "pp.figure(figsize=(8,5))\n",
    "pp.rcParams.update({'font.size': 15})\n",
    "pp.plot(percent_growth,final_in_millions,'ob');\n",
    "pp.xlabel(\"Percent growth rate\");\n",
    "pp.ylabel('Final total value (M)');\n",
    "pp.axhline(y = house_total_mil, linewidth=4, color='r');"
   ]
  },
  {
   "cell_type": "markdown",
   "metadata": {},
   "source": [
    "## Data summary \n",
    "\n",
    "1. Investing in either a rental property or in the stock market will generate significant returns over time. \n",
    "2. If we look at rental properties, it takes 12 years to start earning more than you will be spending on the home. This is about the time when the rent would have risen due to inflation, but your mortgage rates remain constant. \n",
    "3. __Rental property vs Stock Market__: The last figure shows this comparison. The red line at 1.65 million denotes the value of the property and the money earned. As you can see, to earn a similar amount of money in the share market, the average rate of return needs to be >9.3%. \n",
    "4. If we take the historic S&P 500 rate of 9.8%, then the stock market would yield 1.9 M. This is ~18% more than the housing investment. However, this number is over a period of 30 years, with a yearly average difference of <1%. \n",
    "5. Though both methods seem to be giving the similar amount of money\n",
    "    1. Stock market gives 18% more yield over 30 years\n",
    "    2. Investing in a stock market, especially today, is a lot easier than maintaining a rental property\n",
    "    3. However, stocks do not give the intangible feeling of ownership that a property can."
   ]
  },
  {
   "cell_type": "code",
   "execution_count": null,
   "metadata": {},
   "outputs": [],
   "source": []
  }
 ],
 "metadata": {
  "kernelspec": {
   "display_name": "Python 3",
   "language": "python",
   "name": "python3"
  },
  "language_info": {
   "codemirror_mode": {
    "name": "ipython",
    "version": 3
   },
   "file_extension": ".py",
   "mimetype": "text/x-python",
   "name": "python",
   "nbconvert_exporter": "python",
   "pygments_lexer": "ipython3",
   "version": "3.7.3"
  },
  "toc": {
   "base_numbering": 1,
   "nav_menu": {},
   "number_sections": true,
   "sideBar": true,
   "skip_h1_title": true,
   "title_cell": "Table of Contents",
   "title_sidebar": "Contents",
   "toc_cell": false,
   "toc_position": {},
   "toc_section_display": true,
   "toc_window_display": true
  }
 },
 "nbformat": 4,
 "nbformat_minor": 2
}
